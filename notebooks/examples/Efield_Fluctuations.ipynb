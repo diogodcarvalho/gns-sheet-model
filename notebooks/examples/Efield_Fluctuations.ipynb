{
 "cells": [
  {
   "cell_type": "markdown",
   "id": "824c864c",
   "metadata": {},
   "source": [
    "# Electrostatic Field Fluctuations\n",
    "\n",
    "Text retrieved from [1]: *Although the plasma is in thermal equilibrium, there are constant exchanges of energy\n",
    "between the sheets and the (electrostatic) waves propagating inside the plasma. This\n",
    "leads to the appearance of electrostatic fluctuations, with an average power spectrum\n",
    "that follows* [2]:\n",
    "\n",
    "$$\n",
    "\\frac{\\langle E^2(k)\\rangle}{8\\pi}\\ = \\frac{k_BT}{2L\\left(1 + k^2\\lambda_D^2\\right)}\n",
    "$$\n",
    "\n",
    "*where $k$ represents the wave vector, $k_B$ the Boltzmann constant, $T$ the plasma\n",
    "temperature $\\left(k_B T = m v_{th}^2\\right)$, and $\\langle \\cdot \\rangle$ the time average.*\n",
    "\n",
    "In this notebook we recover this phenomena by computing the time average of the power spectrum of the electrostatic field for a thermal plasma (sheet velocities initialized using a normal distribution with standard deviation ~$v_{th}$).\n",
    "\n",
    "#### References\n",
    "[1] D. Carvalho et al., arXiv:2310.17646 (2023) - See Section 6.3 <br>\n",
    "[2] J. Dawson, Reviews of modern physics 55 403 - See pp. 420\n"
   ]
  },
  {
   "cell_type": "code",
   "execution_count": 1,
   "id": "05cfcf83",
   "metadata": {},
   "outputs": [],
   "source": [
    "import os\n",
    "import sys\n",
    "import jax\n",
    "import numpy as np\n",
    "\n",
    "# uncomment the line below for nicer plots (needs LaTeX)\n",
    "# os.environ['MATPLOTLIBRC'] = '../matplotlibrc'\n",
    "import matplotlib.pyplot as plt\n",
    "from pathlib import Path\n",
    "\n",
    "sys.path.append('../..')\n",
    "from sheet_model.utils import get_relaxation_time, get_kEfield, get_dx_eq, get_x_eq\n",
    "from gns.simulator import SMGNS\n",
    "\n",
    "## dont let JAX preallocate all GPU memory + free unused arrays \n",
    "## https://jax.readthedocs.io/en/latest/gpu_memory_allocation.html\n",
    "## makes code slower\n",
    "os.environ[\"XLA_PYTHON_CLIENT_PREALLOCATE\"] = \"false\" \n",
    "os.environ[\"XLA_PYTHON_CLIENT_ALLOCATOR\"] = \"platform\""
   ]
  },
  {
   "cell_type": "markdown",
   "id": "9f6c32c2",
   "metadata": {},
   "source": [
    "### Initial Conditions"
   ]
  },
  {
   "cell_type": "code",
   "execution_count": 2,
   "id": "a88d61fc",
   "metadata": {},
   "outputs": [],
   "source": [
    "# system properties\n",
    "n_sheets = 1000\n",
    "boundary = 'reflecting'\n",
    "\n",
    "# aux variables\n",
    "x_eq = get_x_eq(n_sheets)\n",
    "dx_eq = get_dx_eq(n_sheets)\n",
    "\n",
    "# initial velocity distribution std \n",
    "# ! it is not v_th, part of the energy will be deposited in the fields\n",
    "v_std_0 = 5.4 # [dx_eq w_p]\n",
    "\n",
    "# for reproducibility\n",
    "np.random.seed(42)\n",
    "\n",
    "# intial x/v values\n",
    "x_0 = np.copy(x_eq)\n",
    "v_0 = np.random.normal(0, v_std_0, n_sheets) * dx_eq"
   ]
  },
  {
   "cell_type": "markdown",
   "id": "fe35cb00",
   "metadata": {},
   "source": [
    "### Initialize GNS"
   ]
  },
  {
   "cell_type": "code",
   "execution_count": 3,
   "id": "144ad8a3",
   "metadata": {},
   "outputs": [
    {
     "name": "stdout",
     "output_type": "stream",
     "text": [
      "Simulator Info\n",
      "   GNN model: ../../models/final/dt1e-1/4\n",
      "   boundary: reflecting\n",
      "   L: 1\n",
      "   dt_train: 0.1\n",
      "   Training Dataset\n",
      "      L: 1.0\n",
      "      augment_t: True\n",
      "      augment_x: True\n",
      "      boundary: periodic\n",
      "      data_folder: data/dataset/train/10/periodic/\n",
      "      dt_simulator: 0.01\n",
      "      dt_undersample: 10\n",
      "      mode: crossings\n",
      "      n_neighbors: 1\n",
      "      n_sheets: 10\n",
      "      save_folder: data/processed_temp/train/dt1e-1\n",
      "      var_target: dvdt\n",
      "      w_size: 1\n"
     ]
    }
   ],
   "source": [
    "gns = SMGNS('../../models/final/dt1e-1/4', boundary)"
   ]
  },
  {
   "cell_type": "markdown",
   "id": "6f17d32c",
   "metadata": {},
   "source": [
    "### Run Simulation"
   ]
  },
  {
   "cell_type": "code",
   "execution_count": 4,
   "id": "3a4473c9",
   "metadata": {},
   "outputs": [
    {
     "data": {
      "application/json": {
       "ascii": false,
       "bar_format": null,
       "colour": null,
       "elapsed": 0.018770933151245117,
       "initial": 0,
       "n": 0,
       "ncols": null,
       "nrows": 35,
       "postfix": null,
       "prefix": "",
       "rate": null,
       "total": 2000,
       "unit": "it",
       "unit_divisor": 1000,
       "unit_scale": false
      },
      "application/vnd.jupyter.widget-view+json": {
       "model_id": "d818730336a64b2e8f2c9b8e52c677cb",
       "version_major": 2,
       "version_minor": 0
      },
      "text/plain": [
       "  0%|          | 0/2000 [00:00<?, ?it/s]"
      ]
     },
     "metadata": {},
     "output_type": "display_data"
    },
    {
     "name": "stdout",
     "output_type": "stream",
     "text": [
      "dE/E0: 0.0025707234\n"
     ]
    }
   ],
   "source": [
    "t_max = 200\n",
    "\n",
    "X, V, _ , E = gns.pred_rollout(x_0,\n",
    "                               v_0,\n",
    "                               x_eq,\n",
    "                               t_max=t_max,\n",
    "                               verbose=True,\n",
    "                               track_sheets=False,\n",
    "                               n_guards=4,\n",
    "                               np_=np)\n",
    "\n",
    "print('dE/E0:', (E[-1]-E[0])/E[0])"
   ]
  },
  {
   "cell_type": "markdown",
   "id": "01e2e7d4",
   "metadata": {},
   "source": [
    "### Compute Correct $\\lambda_D$"
   ]
  },
  {
   "cell_type": "code",
   "execution_count": 5,
   "id": "92036c5b",
   "metadata": {},
   "outputs": [
    {
     "name": "stdout",
     "output_type": "stream",
     "text": [
      "lambda_d: 5.09\n",
      "nkbT: 25.90\n",
      "t_relax: 12.76\n"
     ]
    }
   ],
   "source": [
    "# lambda_d == v_th in our units\n",
    "# use last step to compute\n",
    "lambda_d = np.std(V[-1]/ dx_eq)\n",
    "\n",
    "# only sample once every t_relaxation (t_relax used here is overestimated)\n",
    "t_relax = get_relaxation_time(lambda_d)\n",
    "t_min = t_relax\n",
    "t = np.arange(t_min, t_max, t_relax/4)\n",
    "it = t / gns.dt_train\n",
    "it = it.astype(np.int64)\n",
    "\n",
    "\n",
    "# kb * T = v_th**2 * m = lambda_d**2 * w_p ** 2 * m, \n",
    "# m = 1, w_p = 1\n",
    "kbT = lambda_d**2\n",
    "print(f'lambda_d: {lambda_d:.2f}')\n",
    "print(f'nkbT: {kbT:.2f}')\n",
    "print(f't_relax: {t_relax:.2f}')"
   ]
  },
  {
   "cell_type": "markdown",
   "id": "e6411ca1",
   "metadata": {},
   "source": [
    "## Compute E-field power spectrum"
   ]
  },
  {
   "cell_type": "code",
   "execution_count": 6,
   "id": "6f1892ca",
   "metadata": {},
   "outputs": [],
   "source": [
    "def get_time_average_kEf2(X, nx, dx_eq):\n",
    "        \n",
    "    kEf2 = []\n",
    "    for i in range(len(X)):\n",
    "        kEf = get_kEfield(X[i], nx, dx_eq)[1]\n",
    "        kEf2.append(kEf**2)\n",
    "        \n",
    "    kEf2 = np.mean(kEf2, axis=0)\n",
    "        \n",
    "    return kEf2\n",
    "\n",
    "def theoretical_curve(x):\n",
    "    return 1 / (1 + x**2)\n",
    "\n",
    "# number of grid points for E-field\n",
    "nx = 200000\n",
    "\n",
    "# power spectrum sheet model @ t = tmax\n",
    "k, kEf = get_kEfield(X[it[-1]], nx, dx_eq)\n",
    "kEf2 = kEf**2\n",
    "# power spectrum sheet model averaged over time (sampled once every t_relax)\n",
    "kEf2_avg = get_time_average_kEf2(X[it], nx, dx_eq)\n",
    "\n",
    "x = k * lambda_d\n",
    "\n",
    "# In CGS units\n",
    "# E(k=0) = 8*pi*kbT / 2L\n",
    "# in our units, the 4*pi disappears, and L = n_sheets [dx_eq]\n",
    "kEf2_0 = kbT / n_sheets"
   ]
  },
  {
   "cell_type": "code",
   "execution_count": 7,
   "id": "af6525ba",
   "metadata": {},
   "outputs": [
    {
     "data": {
      "image/png": "[encoded data removed]",
      "text/plain": [
       "<Figure size 504x360 with 1 Axes>"
      ]
     },
     "metadata": {},
     "output_type": "display_data"
    }
   ],
   "source": [
    "plt.figure()\n",
    "plt.plot(x, kEf2 / kEf2_0 , '-', ms=0.5, alpha=0.2, label=f\"$t = {t_max:.0f} \\ \\omega^{{-1}}_p$\")\n",
    "plt.plot(x, kEf2_avg / kEf2_0, label=f\"$t \\in [{t_min:.0f}, {t_max:.0f}] \\ \\omega^{{-1}}_p$\")\n",
    "plt.plot(x, theoretical_curve(x), label='Theory', color='k')\n",
    "plt.xlim(0, np.max(x))\n",
    "plt.yscale('log')\n",
    "plt.ylabel(r'$\\langle E^2 \\rangle L$ / $4 \\pi k_B T$')\n",
    "plt.xlabel('$k\\lambda_D$')\n",
    "plt.xlim(0,200)\n",
    "plt.ylim(1e-8,10)\n",
    "leg = plt.legend(loc='upper right')\n",
    "plt.tight_layout()\n",
    "plt.savefig('../img/efield_fluctuations', dpi=300)\n",
    "plt.show()"
   ]
  },
  {
   "cell_type": "code",
   "execution_count": null,
   "id": "c4b8b8f6",
   "metadata": {},
   "outputs": [],
   "source": []
  }
 ],
 "metadata": {
  "kernelspec": {
   "display_name": "Python 3 (ipykernel)",
   "language": "python",
   "name": "python3"
  },
  "language_info": {
   "codemirror_mode": {
    "name": "ipython",
    "version": 3
   },
   "file_extension": ".py",
   "mimetype": "text/x-python",
   "name": "python",
   "nbconvert_exporter": "python",
   "pygments_lexer": "ipython3",
   "version": "3.10.12"
  }
 },
 "nbformat": 4,
 "nbformat_minor": 5
}
